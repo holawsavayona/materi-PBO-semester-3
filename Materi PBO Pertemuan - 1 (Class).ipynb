{
 "cells": [
  {
   "cell_type": "code",
   "execution_count": 1,
   "metadata": {},
   "outputs": [
    {
     "ename": "SyntaxError",
     "evalue": "Missing parentheses in call to 'print'. Did you mean print('NO 1')? (<ipython-input-1-01d5257f19bb>, line 13)",
     "output_type": "error",
     "traceback": [
      "\u001b[1;36m  File \u001b[1;32m\"<ipython-input-1-01d5257f19bb>\"\u001b[1;36m, line \u001b[1;32m13\u001b[0m\n\u001b[1;33m    print 'NO 1'\u001b[0m\n\u001b[1;37m               ^\u001b[0m\n\u001b[1;31mSyntaxError\u001b[0m\u001b[1;31m:\u001b[0m Missing parentheses in call to 'print'. Did you mean print('NO 1')?\n"
     ]
    }
   ],
   "source": [
    "#set menulis\n",
    "#get membaca\n",
    "#method : yang perlu diolah\n",
    "#properti : variable, atribute\n",
    "#CLASS: class bukan object tapi dia menciptakan object, data yg digunakan untuk mendefinisikan object\n",
    "#OBJECT : hasil dari kita menciptakan suatu class .representasi dari class(mempresentasikan sebuah object)\n",
    "#object dan class lebih besar class, dan yang sudah terdefinisikan adalah object\n",
    "#keyword class diikuti dengan nama class , properti ada di constractor\n",
    "#yang dioperasikan adalh objectnya bukan class nya\n",
    "#Method : class kubus (1) vol (2) luas permukaan\n",
    "\n",
    "#CONTOH : Class Kubus\n",
    "class kubus :\n",
    "    def __init__(self,s):\n",
    "        self.sisi=s\n",
    "    def tampilkansisi (self):\n",
    "        print self.sisi\n",
    "    def luas (self):\n",
    "        print 'luas= ', self.sisi**2\n",
    "    def volume (self):\n",
    "        print 'luas= ', self.sisi**3\n",
    "    def lp (self):\n",
    "        print 'luas permukaan = ', self.sisi**2*6\n",
    "kubus1=kubus(4)\n",
    "kubus1.tampilkansisi()\n",
    "kubus1.luas()\n",
    "kubus1.volume()\n",
    "kubus1.lp()"
   ]
  },
  {
   "cell_type": "code",
   "execution_count": null,
   "metadata": {},
   "outputs": [],
   "source": []
  },
  {
   "cell_type": "code",
   "execution_count": null,
   "metadata": {},
   "outputs": [],
   "source": [
    "#CONTOH: Class Mahasiswa\n",
    "class mhs :\n",
    "    def __init__(self,na,nm,ip):\n",
    "        self.na=na\n",
    "        self.nm=nm\n",
    "        self.ip=ip\n",
    "    def tampilkan (self):\n",
    "        print self.na,',',self.nm,',',self.ip\n",
    "    def predikat (self):\n",
    "        if self.ip>=3.5:\n",
    "            print 'cumclaude'\n",
    "        elif self.ip>3 and self.ip<3:\n",
    "            print 'sangat memuaskan'\n",
    "        elif self.ip>2.5 and self.ip<3:\n",
    "            print 'memuaskan'\n",
    "        else :\n",
    "            print 'cukup'\n",
    "mahasiswa=mhs ('028','holaw',3.5)\n",
    "mahasiswa.tampilkan()\n",
    "mahasiswa.predikat()"
   ]
  },
  {
   "cell_type": "code",
   "execution_count": null,
   "metadata": {},
   "outputs": [],
   "source": [
    "#CONOTOH: Class Nasabah\n",
    "class nasabah:\n",
    "    def __init__(self,no,na,rek):\n",
    "        self.no=no\n",
    "        self.na=na\n",
    "        self.rek=rek\n",
    "    def tampilkan (self):\n",
    "        print self.no,',',self.na,',',self.rek\n",
    "\n",
    "\n",
    "\n",
    "class rekening:\n",
    "    def __init__(self,rek,saldo):\n",
    "        self.rek=rek\n",
    "        self.saldo=saldo\n",
    "    def ambiluang(self,jumlah):\n",
    "        self.saldo-=jumlah\n",
    "    def setoruang(self,jumlah):\n",
    "        self.saldo+=jumlah\n",
    "    def ceksaldo(self):\n",
    "        print 'sisa saldo=',self.saldo\n",
    "nasa=nasabah ('no Nasabah = 028','Nama = holaw','no Rekening 112726537238',)\n",
    "nasa.tampilkan()\n",
    "rek=nasa.rek\n",
    "rekening=rekening(rek,900000)\n",
    "rekening.ambiluang(100000)\n",
    "rekening.setoruang(50000)\n",
    "rekening.ceksaldo()"
   ]
  }
 ],
 "metadata": {
  "kernelspec": {
   "display_name": "Python 3",
   "language": "python",
   "name": "python3"
  },
  "language_info": {
   "codemirror_mode": {
    "name": "ipython",
    "version": 3
   },
   "file_extension": ".py",
   "mimetype": "text/x-python",
   "name": "python",
   "nbconvert_exporter": "python",
   "pygments_lexer": "ipython3",
   "version": "3.6.5"
  }
 },
 "nbformat": 4,
 "nbformat_minor": 2
}
