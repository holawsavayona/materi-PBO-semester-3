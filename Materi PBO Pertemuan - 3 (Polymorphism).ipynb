{
 "cells": [
  {
   "cell_type": "code",
   "execution_count": null,
   "metadata": {},
   "outputs": [],
   "source": [
    "#class dan object \n",
    "#dapat mengakses semua dn bisa menambahkan di class anak\n",
    "#polymorphsim objek dari class yang berbeda , bisa saling ngomong tiap classnya . banyak bentuk. \n",
    "#class antar class tidak ada kaitannya , bisa memakai inheiritens method . \n",
    "\n",
    "class shark():\n",
    "    def swim(self):\n",
    "        print (\"the shark is swimming\")\n",
    "    def swim_backward(self):\n",
    "        print (\"the shark cannot swim backwards, can shink backwards\")\n",
    "    def skeleton(self):\n",
    "        print (\"the shark's skeleton is made of\")\n",
    "class clownfish():\n",
    "    def swim (self):\n",
    "        print (\"the clownfish is swimming\")\n",
    "    def swim_backward(self):\n",
    "        print (\"the clownfish can swim backwards\")\n",
    "    def skeleton(self):\n",
    "        print (\"the clownfish's skeleton is made of bone\")\n",
    "sammy=shark()\n",
    "sammy.skeleton()\n",
    "\n",
    "casey=clownfish()\n",
    "casey.skeleton()\n",
    "\n",
    "\n"
   ]
  }
 ],
 "metadata": {
  "kernelspec": {
   "display_name": "Python 3",
   "language": "python",
   "name": "python3"
  },
  "language_info": {
   "codemirror_mode": {
    "name": "ipython",
    "version": 3
   },
   "file_extension": ".py",
   "mimetype": "text/x-python",
   "name": "python",
   "nbconvert_exporter": "python",
   "pygments_lexer": "ipython3",
   "version": "3.6.5"
  }
 },
 "nbformat": 4,
 "nbformat_minor": 2
}
