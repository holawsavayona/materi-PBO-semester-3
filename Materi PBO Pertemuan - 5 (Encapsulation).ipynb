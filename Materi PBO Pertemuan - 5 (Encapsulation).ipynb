{
 "cells": [
  {
   "cell_type": "code",
   "execution_count": null,
   "metadata": {},
   "outputs": [],
   "source": [
    "#encaptulation , berupa kapsul atau pembungkus data dan method dalam sebuah object agar tidak dapat diakses dari luar . \n",
    "#encapsulasi pembungkusan atribut dan metod dalam satu class, sehingga tidak dapat diakses oleh class lainnya \n",
    "#karakteristik dari oop\n",
    "#private method : bisa diakses diclassnya sendiri, tandanya dimulai dari  ( __ )\n",
    "#public method : bisa diakses dri mana saja\n",
    "#private atibute : hanya bisa diakses di class sendiri, dengan metode , jika di tandai dengan ( __ )\n",
    "#public atribute : bisa diakses dri mana saja . \n",
    "\n",
    "#contoh :\n",
    "\n",
    "class robot (object):\n",
    "    def __init__(self):\n",
    "        self.__version = 22\n",
    "\n",
    "    def getVersion(self):\n",
    "        print (self.__version)\n",
    "\n",
    "    def setVersion(self,version):\n",
    "        self.__version = version\n",
    "\n",
    "obj= robot()\n",
    "obj.getVersion()\n",
    "obj.setVersion(23)\n",
    "obj.getVersion()\n",
    "'''print(obj.__Version)'''\n",
    "#CLASS ini mnggunakan private attribute dan private method "
   ]
  },
  {
   "cell_type": "code",
   "execution_count": null,
   "metadata": {},
   "outputs": [],
   "source": [
    "#soal \n",
    "class Persegi:        \n",
    "    def __init__(self,bentuk=\"persegi\"):\n",
    "        self.__sisi=4\n",
    "        self.__bentuk=\"persegi\"\n",
    "    \n",
    "    def __keliling(self):\n",
    "        print (\"KELILINGNYA = \",self.__sisi*4)\n",
    "    def display (self):\n",
    "        print (\"BENTUKNYA = \",self.__bentuk)\n",
    "        #method private\n",
    "\n",
    "    def Ukuran(self,isi):\n",
    "        self.__sisi=isi\n",
    "\n",
    "        #atribut private\n",
    "#menggunakan / memanggil method private \n",
    "a=Persegi()\n",
    "a.display()\n",
    "a._Persegi__keliling()\n",
    "\n",
    "#menggunakan / memanggil atribute private \n",
    "a.Ukuran(10)\n",
    "a._Persegi__keliling()\n",
    "\n",
    "'''\n",
    "b=PersegiPanjang(4)\n",
    "b.display()\n",
    "b.deskripsi() \n",
    "'''\n"
   ]
  }
 ],
 "metadata": {
  "kernelspec": {
   "display_name": "Python 3",
   "language": "python",
   "name": "python3"
  },
  "language_info": {
   "codemirror_mode": {
    "name": "ipython",
    "version": 3
   },
   "file_extension": ".py",
   "mimetype": "text/x-python",
   "name": "python",
   "nbconvert_exporter": "python",
   "pygments_lexer": "ipython3",
   "version": "3.6.5"
  }
 },
 "nbformat": 4,
 "nbformat_minor": 2
}
