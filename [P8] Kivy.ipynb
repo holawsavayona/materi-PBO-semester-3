{
 "cells": [
  {
   "cell_type": "markdown",
   "metadata": {},
   "source": [
    "# 1. Kivy"
   ]
  },
  {
   "cell_type": "markdown",
   "metadata": {},
   "source": [
    "Kivy ini sendiri merupakan framework yang dibangun menggunakan library dari bahasa pemrograman Python yang bersifat Open Source."
   ]
  },
  {
   "cell_type": "markdown",
   "metadata": {},
   "source": [
    "##### A. Instalasi Kivy"
   ]
  },
  {
   "cell_type": "markdown",
   "metadata": {},
   "source": [
    "masuk ke CMD (Command Prompt) dengan cara menekan tombol Windows lalu ketik CMD atau dengan cara klik start, assesoris,  pilih commad promt.\n",
    "PIP adalah sebuah aplikasi sistem manajemen package yang digunakan untuk             menginstal dan mengelola package yang ditulis dengan Python. kita bisa menemukan package di Python Package Index (PyPI). lalu bagaimana cara menginstall PIP Kivy? buka terminal, lalu ketik perintah :\n",
    "       \n",
    "       \n",
    "       Python –m pip install kivy\n"
   ]
  },
  {
   "cell_type": "markdown",
   "metadata": {},
   "source": [
    "#####  B.Untuk Menggunakan Library Ini lakukan Perintah :"
   ]
  },
  {
   "cell_type": "code",
   "execution_count": null,
   "metadata": {},
   "outputs": [],
   "source": [
    "import kivy\n",
    "kivy.require('1.0.6')\n",
    "\n",
    "from kivy.app import App\n",
    "from kivy.lang import Builder\n",
    "from kivy.uix.widget import Widget \n",
    "from kivy.uix.boxlayout import BoxLayout"
   ]
  },
  {
   "cell_type": "markdown",
   "metadata": {},
   "source": [
    "##### C. Contoh Program"
   ]
  },
  {
   "cell_type": "code",
   "execution_count": null,
   "metadata": {},
   "outputs": [],
   "source": [
    "#Kivy merupakan library Python open source yang digunakan untuk mengembangkan aplikasi mobile dengan user inetrface alami (Natural User Interface). Kivy bisa berjalan pada platform Android, iOS, Linux, OS X dan Windows. Kivy berlisensi MIT. \n",
    "#Penjelasan Class dan Method\n",
    "\n",
    "#Builder.load_string = untuk close calculator\n",
    "\n",
    "#class Calculator(BoxLayout):  tata letak kotak\n",
    "#def backward(self, express):  berfungsi untuk menghapus\n",
    "#def calculate(self, express):  berfungsi untuk melakukan semua operasi yang ada di kalkulator\n",
    "\n",
    "#class CalculatorApp(App): Class untuk menampilkan kalkulator\n",
    "#def build(self): untuk menampilkan boxlayout\n",
    "#def on_pause(self):  menampilkan , dengan return. \n",
    "\n",
    "\n",
    "\n",
    "#untuk close calculator\n",
    "Builder.load_string(\"\"\" \n",
    "<MyWidget>:\n",
    "    BoxLayout:\n",
    "        Button:\n",
    "            text: \"Close\"\n",
    "            on_release: app.stop()\n",
    "\"\"\")\n",
    "\n",
    "        \n",
    "\n",
    "class Calculator(BoxLayout): #tata letak kotak\n",
    "\n",
    "\tdef backward(self, express): # berfungsi untuk menghapus \n",
    "\t\tif express:\n",
    "\t\t\tself.display.text = express[:-1]\n",
    "\n",
    "\tdef calculate(self, express):# berfungsi untuk melakukan semua operasi yang ada di kalkulator\n",
    "\t\tif not express: return\n",
    "\n",
    "\t\ttry:\n",
    "\t\t\tself.display.text = str( eval(express) )\n",
    "\t\texcept Exception:# apabila operator di klik dengan sembarangan maka akan muncul tulisan eror\n",
    "\t\t\tself.display.text = 'error'\n",
    "\n",
    "\n",
    "class CalculatorApp(App):\n",
    "\ttitle = 'calculator' #judul app\n",
    "\ticon = 'icon.png' #gambar / icon app\n",
    "\n",
    "\tdef build(self):#untuk menampilkan boxlayout\n",
    "\t\treturn Calculator()\n",
    "\n",
    "\tdef on_pause(self):\n",
    "\t\treturn True\n",
    "\t\n",
    "\n",
    "\n",
    "\n",
    "if __name__ in ('__main__', '__android__'):# berfungsi untuk menjalankan class calculatorApp\n",
    "\tCalculatorApp().run()\n"
   ]
  }
 ],
 "metadata": {
  "kernelspec": {
   "display_name": "Python 2",
   "language": "python",
   "name": "python2"
  },
  "language_info": {
   "codemirror_mode": {
    "name": "ipython",
    "version": 2
   },
   "file_extension": ".py",
   "mimetype": "text/x-python",
   "name": "python",
   "nbconvert_exporter": "python",
   "pygments_lexer": "ipython2",
   "version": "2.7.15"
  }
 },
 "nbformat": 4,
 "nbformat_minor": 2
}
